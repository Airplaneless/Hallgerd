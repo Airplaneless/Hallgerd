{
 "cells": [
  {
   "cell_type": "code",
   "execution_count": 1,
   "metadata": {},
   "outputs": [],
   "source": [
    "import sys\n",
    "sys.path.append('../../')\n",
    "import numpy as np\n",
    "import pyopencl as cl\n",
    "import pylab as plt\n",
    "import time"
   ]
  },
  {
   "cell_type": "code",
   "execution_count": 2,
   "metadata": {},
   "outputs": [],
   "source": [
    "from gunnar.kernels import MAT_KERNELS"
   ]
  },
  {
   "cell_type": "code",
   "execution_count": 3,
   "metadata": {},
   "outputs": [],
   "source": [
    "ctx = cl.create_some_context()\n",
    "queue = cl.CommandQueue(ctx)\n",
    "prg = cl.Program(ctx, MAT_KERNELS).build(\"-DTSM=128 -DTSN=128 -DTSK=16 -DWPTM=8 -DWPTN=8 -DTS=8\")\n",
    "8\n",
    "A = np.random.randn(256, 256).astype(np.float32)\n",
    "A_cl = cl.Buffer(ctx, cl.mem_flags.READ_ONLY | cl.mem_flags.COPY_HOST_PTR, hostbuf=A)\n",
    "B = np.random.randn(256, 256).astype(np.float32)\n",
    "B_cl = cl.Buffer(ctx, cl.mem_flags.READ_ONLY | cl.mem_flags.COPY_HOST_PTR, hostbuf=B)\n",
    "C = np.empty((A.shape[0], B.shape[1]), dtype=np.float32)\n",
    "C_cl = cl.Buffer(ctx, cl.mem_flags.WRITE_ONLY, size=C.nbytes)\n",
    "\n",
    "assert A.shape[1] == B.shape[0]\n",
    "\n",
    "M = A.shape[0]\n",
    "M_cl = cl.Buffer(ctx, cl.mem_flags.READ_ONLY | cl.mem_flags.COPY_HOST_PTR, hostbuf=np.int32(M))\n",
    "K = B.shape[0]\n",
    "K_cl = cl.Buffer(ctx, cl.mem_flags.READ_ONLY | cl.mem_flags.COPY_HOST_PTR, hostbuf=np.int32(K))\n",
    "N = B.shape[1]\n",
    "N_cl = cl.Buffer(ctx, cl.mem_flags.READ_ONLY | cl.mem_flags.COPY_HOST_PTR, hostbuf=np.int32(N))"
   ]
  },
  {
   "cell_type": "code",
   "execution_count": 4,
   "metadata": {},
   "outputs": [],
   "source": [
    "event = prg.myGEMM6(queue, (32, 32), (16, 16), M_cl, N_cl, K_cl, A_cl, B_cl, C_cl)\n",
    "cl.wait_for_events([event,])"
   ]
  },
  {
   "cell_type": "code",
   "execution_count": 5,
   "metadata": {},
   "outputs": [],
   "source": [
    "event = cl.enqueue_copy(queue, C, C_cl)\n",
    "cl.wait_for_events([event,])"
   ]
  },
  {
   "cell_type": "code",
   "execution_count": 6,
   "metadata": {},
   "outputs": [
    {
     "data": {
      "text/plain": [
       "0.0"
      ]
     },
     "execution_count": 6,
     "metadata": {},
     "output_type": "execute_result"
    }
   ],
   "source": [
    "np.linalg.norm(C - np.matmul(B.T, A))"
   ]
  },
  {
   "cell_type": "code",
   "execution_count": 7,
   "metadata": {},
   "outputs": [],
   "source": [
    "def get_time(size):\n",
    "    ctx = cl.create_some_context()\n",
    "    queue = cl.CommandQueue(ctx)\n",
    "    prg = cl.Program(ctx, MAT_KERNELS).build(\"-DTSM=128 -DTSN=128 -DTSK=16 -DWPTM=8 -DWPTN=8 -DTS=8\")\n",
    "\n",
    "    A = np.random.randn(size, size).astype(np.float32)\n",
    "    A_cl = cl.Buffer(ctx, cl.mem_flags.READ_ONLY | cl.mem_flags.COPY_HOST_PTR, hostbuf=A)\n",
    "    B = np.random.randn(size, size).astype(np.float32)\n",
    "    B_cl = cl.Buffer(ctx, cl.mem_flags.READ_ONLY | cl.mem_flags.COPY_HOST_PTR, hostbuf=B)\n",
    "    C = np.empty((A.shape[0], B.shape[1]), dtype=np.float32)\n",
    "    C_cl = cl.Buffer(ctx, cl.mem_flags.WRITE_ONLY, size=C.nbytes)\n",
    "\n",
    "    assert A.shape[1] == B.shape[0]\n",
    "\n",
    "    M = A.shape[0]\n",
    "    M_cl = cl.Buffer(ctx, cl.mem_flags.READ_ONLY | cl.mem_flags.COPY_HOST_PTR, hostbuf=np.int32(M))\n",
    "    K = B.shape[0]\n",
    "    K_cl = cl.Buffer(ctx, cl.mem_flags.READ_ONLY | cl.mem_flags.COPY_HOST_PTR, hostbuf=np.int32(K))\n",
    "    N = B.shape[1]\n",
    "    N_cl = cl.Buffer(ctx, cl.mem_flags.READ_ONLY | cl.mem_flags.COPY_HOST_PTR, hostbuf=np.int32(N))\n",
    "    \n",
    "    t1 = time.time()\n",
    "    CC = np.matmul(B.T, A)\n",
    "#     CC= np.matmul(B, A)\n",
    "    cpu_t = time.time() - t1\n",
    "    \n",
    "    t1 = time.time()\n",
    "#     event = prg.myGEMM1(queue, (int(M), int(N)), (int(8), int(8)), M_cl, N_cl, K_cl, A_cl, B_cl, C_cl)\n",
    "#     event = prg.myGEMM2(queue, (int(M), int(N)), (int(8), int(8)), M_cl, N_cl, K_cl, A_cl, B_cl, C_cl)\n",
    "    event = prg.myGEMM6(queue, (int(M/8), int(N/8)), (int(128/8), int(128/8)), M_cl, N_cl, K_cl, A_cl, B_cl, C_cl)\n",
    "    cl.wait_for_events([event,])\n",
    "    cl_t = time.time() - t1\n",
    "    \n",
    "    event = cl.enqueue_copy(queue, C, C_cl)\n",
    "    cl.wait_for_events([event,])\n",
    "    \n",
    "    score = np.linalg.norm(C - CC)\n",
    "    \n",
    "    return score, cpu_t, cl_t"
   ]
  },
  {
   "cell_type": "code",
   "execution_count": 8,
   "metadata": {},
   "outputs": [
    {
     "name": "stderr",
     "output_type": "stream",
     "text": [
      "100%|██████████| 5/5 [00:01<00:00,  3.72it/s]\n"
     ]
    }
   ],
   "source": [
    "from tqdm import tqdm\n",
    "sizes = [128, 256, 512, 1024, 2048]\n",
    "cputimes = list(); cltimes = list(); scores = list()\n",
    "for s in tqdm(sizes):\n",
    "    sc, ct, clt = get_time(s)\n",
    "    cputimes.append(ct)\n",
    "    cltimes.append(clt)\n",
    "    scores.append(sc)"
   ]
  },
  {
   "cell_type": "code",
   "execution_count": 9,
   "metadata": {},
   "outputs": [
    {
     "data": {
      "image/png": "[encoded data removed]",
      "text/plain": [
       "<matplotlib.figure.Figure at 0x7fe9f3d6a588>"
      ]
     },
     "metadata": {
      "needs_background": "light"
     },
     "output_type": "display_data"
    }
   ],
   "source": [
    "plt.plot(sizes, cputimes, 'gx:')\n",
    "# plt.ylabel('cpu time')\n",
    "# plt.twinx()\n",
    "plt.plot(sizes, cltimes, 'ro:')\n",
    "# plt.ylabel('cl time')\n",
    "plt.show()"
   ]
  },
  {
   "cell_type": "code",
   "execution_count": 10,
   "metadata": {},
   "outputs": [],
   "source": [
    "np.savez('k6.npz', time=cltimes, size=sizes, score=scores)"
   ]
  },
  {
   "cell_type": "code",
   "execution_count": 11,
   "metadata": {},
   "outputs": [
    {
     "data": {
      "text/plain": [
       "[0.0, 0.0, 0.0044790357, 0.0188931, 0.07824701]"
      ]
     },
     "execution_count": 11,
     "metadata": {},
     "output_type": "execute_result"
    }
   ],
   "source": [
    "scores"
   ]
  },
  {
   "cell_type": "code",
   "execution_count": null,
   "metadata": {},
   "outputs": [],
   "source": []
  }
 ],
 "metadata": {
  "kernelspec": {
   "display_name": "Python 3",
   "language": "python",
   "name": "python3"
  },
  "language_info": {
   "codemirror_mode": {
    "name": "ipython",
    "version": 3
   },
   "file_extension": ".py",
   "mimetype": "text/x-python",
   "name": "python",
   "nbconvert_exporter": "python",
   "pygments_lexer": "ipython3",
   "version": "3.6.8"
  }
 },
 "nbformat": 4,
 "nbformat_minor": 2
}
