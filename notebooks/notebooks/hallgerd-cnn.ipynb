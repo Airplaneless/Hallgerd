{
 "cells": [
  {
   "cell_type": "code",
   "execution_count": null,
   "metadata": {},
   "outputs": [],
   "source": [
    "import sys\n",
    "sys.path.append('../../Hallgerd/')"
   ]
  },
  {
   "cell_type": "code",
   "execution_count": null,
   "metadata": {},
   "outputs": [],
   "source": [
    "import numpy as np\n",
    "import pylab as plt\n",
    "\n",
    "import hallgerd\n",
    "from hallgerd.core import Sequential\n",
    "from hallgerd.layers import Dense, Conv2D\n",
    "from gunnar.core import Device\n",
    "\n",
    "from sklearn.metrics import classification_report\n",
    "from sklearn.preprocessing import OneHotEncoder"
   ]
  },
  {
   "cell_type": "code",
   "execution_count": null,
   "metadata": {},
   "outputs": [],
   "source": [
    "d0 = np.fromfile('mnist-data/data0', dtype=np.uint8).reshape((1000, 28, 28))\n",
    "d1 = np.fromfile('mnist-data/data1', dtype=np.uint8).reshape((1000, 28, 28))\n",
    "d2 = np.fromfile('mnist-data/data2', dtype=np.uint8).reshape((1000, 28, 28))\n",
    "d3 = np.fromfile('mnist-data/data3', dtype=np.uint8).reshape((1000, 28, 28))\n",
    "d4 = np.fromfile('mnist-data/data4', dtype=np.uint8).reshape((1000, 28, 28))\n",
    "d5 = np.fromfile('mnist-data/data5', dtype=np.uint8).reshape((1000, 28, 28))\n",
    "d6 = np.fromfile('mnist-data/data6', dtype=np.uint8).reshape((1000, 28, 28))\n",
    "d7 = np.fromfile('mnist-data/data7', dtype=np.uint8).reshape((1000, 28, 28))\n",
    "d8 = np.fromfile('mnist-data/data8', dtype=np.uint8).reshape((1000, 28, 28))\n",
    "d9 = np.fromfile('mnist-data/data9', dtype=np.uint8).reshape((1000, 28, 28))\n",
    "dataX = np.concatenate((d0, d1, d2, d3, d4, d5, d6, d7, d8, d9))\n",
    "dataY = np.concatenate(([0]*1000, [1]*1000, [2]*1000, [3]*1000, [4]*1000, \n",
    "                        [5]*1000, [6]*1000, [7]*1000, [8]*1000, [9]*1000))"
   ]
  },
  {
   "cell_type": "code",
   "execution_count": null,
   "metadata": {},
   "outputs": [],
   "source": [
    "indices = np.random.permutation(10000)\n",
    "dataX = dataX[indices]\n",
    "dataY = dataY[indices]\n",
    "dataX = dataX.reshape(10000, 784).T.astype(np.float32) / 255\n",
    "dataY = OneHotEncoder(categories='auto', sparse=False).fit_transform(dataY.reshape(-1, 1)).T"
   ]
  },
  {
   "cell_type": "code",
   "execution_count": null,
   "metadata": {},
   "outputs": [],
   "source": [
    "trainX = dataX[:, :600]\n",
    "trainY = dataY[:, :600]\n",
    "trainX.shape, trainY.shape"
   ]
  },
  {
   "cell_type": "code",
   "execution_count": null,
   "metadata": {},
   "outputs": [],
   "source": [
    "N = 42\n",
    "print(trainY[:,N])\n",
    "plt.figure(figsize=(1, 1)); plt.axis('off')\n",
    "plt.imshow(trainX[:,N].reshape(28, 28))\n",
    "plt.show()"
   ]
  },
  {
   "cell_type": "code",
   "execution_count": null,
   "metadata": {},
   "outputs": [],
   "source": [
    "devices = Device.getDevices()\n",
    "dnames = [d for d in devices]\n",
    "\n",
    "print('Found devices:\\n\\t{}'.format('\\n\\t'.join(dnames)))\n",
    "print('\\nUsing ', dnames[0])\n",
    "gpu = Device([devices[dnames[0]]], DTYPE=np.float32, CTS=28, IBS=2, \n",
    "             TS=32, TSK=32, WPTM=4, WPTN=4)"
   ]
  },
  {
   "cell_type": "code",
   "execution_count": null,
   "metadata": {},
   "outputs": [],
   "source": [
    "model = Sequential(gpu, lr=1e-3, batch_size=4, epochs=4, loss='cross_entropy', dimages=(28,28,1), verbose=True)\n",
    "model.add(Conv2D(1, 16, padding=1, activation='relu'))\n",
    "model.add(Conv2D(16, 8, padding=1, activation='relu'))\n",
    "model.add(Dense(8*28*28, 512, activation='relu'))\n",
    "model.add(Dense(512, 10, activation='softmax'))"
   ]
  },
  {
   "cell_type": "code",
   "execution_count": null,
   "metadata": {},
   "outputs": [],
   "source": [
    "%%time\n",
    "model.fit(trainX, trainY)"
   ]
  },
  {
   "cell_type": "code",
   "execution_count": null,
   "metadata": {},
   "outputs": [],
   "source": [
    "import cProfile\n",
    "cProfile.run('model.fit(trainX, trainY)', filename='plogv4')"
   ]
  },
  {
   "cell_type": "code",
   "execution_count": null,
   "metadata": {},
   "outputs": [],
   "source": [
    "plt.plot(model.history['loss'], 'go:')\n",
    "plt.xlabel('epoch'); plt.ylabel('loss')\n",
    "plt.show()"
   ]
  },
  {
   "cell_type": "code",
   "execution_count": null,
   "metadata": {},
   "outputs": [],
   "source": [
    "yt = trainY.argmax(axis=0)\n",
    "ypp = model.predict(trainX)\n",
    "yp = ypp.argmax(axis=0)\n",
    "print(classification_report(yt, yp))"
   ]
  },
  {
   "cell_type": "code",
   "execution_count": null,
   "metadata": {},
   "outputs": [],
   "source": []
  }
 ],
 "metadata": {
  "kernelspec": {
   "display_name": "Python 3",
   "language": "python",
   "name": "python3"
  },
  "language_info": {
   "codemirror_mode": {
    "name": "ipython",
    "version": 3
   },
   "file_extension": ".py",
   "mimetype": "text/x-python",
   "name": "python",
   "nbconvert_exporter": "python",
   "pygments_lexer": "ipython3",
   "version": "3.7.3"
  }
 },
 "nbformat": 4,
 "nbformat_minor": 4
}
