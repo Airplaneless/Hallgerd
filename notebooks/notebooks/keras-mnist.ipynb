{
 "cells": [
  {
   "cell_type": "code",
   "execution_count": 1,
   "metadata": {},
   "outputs": [
    {
     "name": "stderr",
     "output_type": "stream",
     "text": [
      "Using TensorFlow backend.\n"
     ]
    }
   ],
   "source": [
    "import numpy as np\n",
    "\n",
    "import keras\n",
    "from keras.models import Sequential\n",
    "from keras.layers import Dense\n",
    "from keras.optimizers import SGD\n",
    "from keras.datasets import mnist\n",
    "from sklearn.metrics import classification_report"
   ]
  },
  {
   "cell_type": "code",
   "execution_count": 2,
   "metadata": {},
   "outputs": [],
   "source": [
    "(x_train, y_train), (x_test, y_test) = mnist.load_data()\n",
    "x_train = x_train.reshape(60000, 784)\n",
    "x_test = x_test.reshape(10000, 784)\n",
    "x_train = x_train.astype('float64')\n",
    "x_test = x_test.astype('float64')\n",
    "x_train /= 255\n",
    "x_test /= 255\n",
    "\n",
    "y_train = keras.utils.to_categorical(y_train, 10)\n",
    "y_test = keras.utils.to_categorical(y_test, 10)"
   ]
  },
  {
   "cell_type": "code",
   "execution_count": 3,
   "metadata": {},
   "outputs": [
    {
     "name": "stderr",
     "output_type": "stream",
     "text": [
      "WARNING: Logging before flag parsing goes to stderr.\n",
      "W0811 20:27:56.619471  1336 deprecation_wrapper.py:119] From c:\\users\\u0001\\appdata\\local\\programs\\python\\python37\\lib\\site-packages\\keras\\backend\\tensorflow_backend.py:47: The name tf.get_default_graph is deprecated. Please use tf.compat.v1.get_default_graph instead.\n",
      "\n",
      "W0811 20:27:56.659474  1336 deprecation_wrapper.py:119] From c:\\users\\u0001\\appdata\\local\\programs\\python\\python37\\lib\\site-packages\\keras\\backend\\tensorflow_backend.py:349: The name tf.placeholder is deprecated. Please use tf.compat.v1.placeholder instead.\n",
      "\n",
      "W0811 20:27:56.663468  1336 deprecation_wrapper.py:119] From c:\\users\\u0001\\appdata\\local\\programs\\python\\python37\\lib\\site-packages\\keras\\backend\\tensorflow_backend.py:3145: The name tf.random_uniform is deprecated. Please use tf.random.uniform instead.\n",
      "\n",
      "W0811 20:27:56.724468  1336 deprecation_wrapper.py:119] From c:\\users\\u0001\\appdata\\local\\programs\\python\\python37\\lib\\site-packages\\keras\\optimizers.py:675: The name tf.train.Optimizer is deprecated. Please use tf.compat.v1.train.Optimizer instead.\n",
      "\n",
      "W0811 20:27:56.727468  1336 deprecation.py:506] From c:\\users\\u0001\\appdata\\local\\programs\\python\\python37\\lib\\site-packages\\keras\\backend\\tensorflow_backend.py:2548: calling reduce_sum_v1 (from tensorflow.python.ops.math_ops) with keep_dims is deprecated and will be removed in a future version.\n",
      "Instructions for updating:\n",
      "keep_dims is deprecated, use keepdims instead\n",
      "W0811 20:27:56.798522  1336 deprecation_wrapper.py:119] From c:\\users\\u0001\\appdata\\local\\programs\\python\\python37\\lib\\site-packages\\keras\\backend\\tensorflow_backend.py:2552: The name tf.log is deprecated. Please use tf.math.log instead.\n",
      "\n"
     ]
    }
   ],
   "source": [
    "model = Sequential()\n",
    "model.add(Dense(512, activation='relu', input_shape=(784,)))\n",
    "model.add(Dense(512, activation='relu'))\n",
    "model.add(Dense(10, activation='softmax'))\n",
    "model.compile(SGD(lr=1e-1), loss='categorical_crossentropy')"
   ]
  },
  {
   "cell_type": "code",
   "execution_count": 4,
   "metadata": {},
   "outputs": [
    {
     "name": "stderr",
     "output_type": "stream",
     "text": [
      "W0811 20:28:00.931087  1336 deprecation.py:323] From c:\\users\\u0001\\appdata\\local\\programs\\python\\python37\\lib\\site-packages\\tensorflow\\python\\ops\\math_grad.py:1250: add_dispatch_support.<locals>.wrapper (from tensorflow.python.ops.array_ops) is deprecated and will be removed in a future version.\n",
      "Instructions for updating:\n",
      "Use tf.where in 2.0, which has the same broadcast rule as np.where\n",
      "W0811 20:28:00.991087  1336 deprecation.py:506] From c:\\users\\u0001\\appdata\\local\\programs\\python\\python37\\lib\\site-packages\\keras\\backend\\tensorflow_backend.py:519: calling Constant.__init__ (from tensorflow.python.ops.init_ops) with dtype is deprecated and will be removed in a future version.\n",
      "Instructions for updating:\n",
      "Call initializer instance with the dtype argument instead of passing it to the constructor\n",
      "W0811 20:28:01.015088  1336 deprecation_wrapper.py:119] From c:\\users\\u0001\\appdata\\local\\programs\\python\\python37\\lib\\site-packages\\keras\\backend\\tensorflow_backend.py:762: The name tf.assign is deprecated. Please use tf.compat.v1.assign instead.\n",
      "\n"
     ]
    },
    {
     "name": "stdout",
     "output_type": "stream",
     "text": [
      "Epoch 1/20\n",
      "60000/60000 [==============================] - 6s - loss: 1.0336     \n",
      "Epoch 2/20\n",
      "60000/60000 [==============================] - 6s - loss: 0.4175     \n",
      "Epoch 3/20\n",
      "60000/60000 [==============================] - 6s - loss: 0.3385     \n",
      "Epoch 4/20\n",
      "60000/60000 [==============================] - 6s - loss: 0.2995     \n",
      "Epoch 5/20\n",
      "60000/60000 [==============================] - 6s - loss: 0.2746     \n",
      "Epoch 6/20\n",
      "60000/60000 [==============================] - 6s - loss: 0.2536     \n",
      "Epoch 7/20\n",
      "60000/60000 [==============================] - 6s - loss: 0.2378     \n",
      "Epoch 8/20\n",
      "60000/60000 [==============================] - 5s - loss: 0.2229     \n",
      "Epoch 9/20\n",
      "60000/60000 [==============================] - 5s - loss: 0.2110     \n",
      "Epoch 10/20\n",
      "60000/60000 [==============================] - 6s - loss: 0.1996     \n",
      "Epoch 11/20\n",
      "60000/60000 [==============================] - 6s - loss: 0.1902     \n",
      "Epoch 12/20\n",
      "60000/60000 [==============================] - 6s - loss: 0.1813     \n",
      "Epoch 13/20\n",
      "60000/60000 [==============================] - 6s - loss: 0.1723     \n",
      "Epoch 14/20\n",
      "60000/60000 [==============================] - 6s - loss: 0.1647     \n",
      "Epoch 15/20\n",
      "60000/60000 [==============================] - 6s - loss: 0.1580     \n",
      "Epoch 16/20\n",
      "60000/60000 [==============================] - 6s - loss: 0.1512     \n",
      "Epoch 17/20\n",
      "60000/60000 [==============================] - 6s - loss: 0.1451     \n",
      "Epoch 18/20\n",
      "60000/60000 [==============================] - 6s - loss: 0.1395     \n",
      "Epoch 19/20\n",
      "60000/60000 [==============================] - 6s - loss: 0.1343     \n",
      "Epoch 20/20\n",
      "60000/60000 [==============================] - 6s - loss: 0.1296     \n",
      "Wall time: 2min 6s\n"
     ]
    }
   ],
   "source": [
    "%%time\n",
    "hs = model.fit(x_train, y_train, batch_size=1024, epochs=20, verbose=1)"
   ]
  },
  {
   "cell_type": "code",
   "execution_count": 5,
   "metadata": {},
   "outputs": [
    {
     "name": "stdout",
     "output_type": "stream",
     "text": [
      "              precision    recall  f1-score   support\n",
      "\n",
      "           0       0.96      0.99      0.98       980\n",
      "           1       0.98      0.98      0.98      1135\n",
      "           2       0.96      0.97      0.96      1032\n",
      "           3       0.95      0.96      0.96      1010\n",
      "           4       0.96      0.96      0.96       982\n",
      "           5       0.96      0.95      0.95       892\n",
      "           6       0.96      0.96      0.96       958\n",
      "           7       0.96      0.95      0.95      1028\n",
      "           8       0.95      0.95      0.95       974\n",
      "           9       0.95      0.94      0.94      1009\n",
      "\n",
      "    accuracy                           0.96     10000\n",
      "   macro avg       0.96      0.96      0.96     10000\n",
      "weighted avg       0.96      0.96      0.96     10000\n",
      "\n"
     ]
    }
   ],
   "source": [
    "yt = y_test.argmax(axis=1)\n",
    "ypp = model.predict(x_test)\n",
    "yp = ypp.argmax(axis=1)\n",
    "print(classification_report(yt, yp))"
   ]
  },
  {
   "cell_type": "code",
   "execution_count": 7,
   "metadata": {},
   "outputs": [
    {
     "data": {
      "image/png": "[encoded data removed]",
      "text/plain": [
       "<Figure size 432x288 with 1 Axes>"
      ]
     },
     "metadata": {
      "needs_background": "light"
     },
     "output_type": "display_data"
    }
   ],
   "source": [
    "import pylab as plt\n",
    "plt.style.use('bmh')\n",
    "plt.plot(hs.history['loss'], 'go:')\n",
    "plt.xlabel('epoch'); plt.ylabel('loss')\n",
    "plt.show()"
   ]
  },
  {
   "cell_type": "code",
   "execution_count": null,
   "metadata": {},
   "outputs": [],
   "source": []
  }
 ],
 "metadata": {
  "kernelspec": {
   "display_name": "Python 3",
   "language": "python",
   "name": "python3"
  },
  "language_info": {
   "codemirror_mode": {
    "name": "ipython",
    "version": 3
   },
   "file_extension": ".py",
   "mimetype": "text/x-python",
   "name": "python",
   "nbconvert_exporter": "python",
   "pygments_lexer": "ipython3",
   "version": "3.7.3"
  }
 },
 "nbformat": 4,
 "nbformat_minor": 4
}
