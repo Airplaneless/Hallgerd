{
 "cells": [
  {
   "cell_type": "code",
   "execution_count": null,
   "metadata": {},
   "outputs": [],
   "source": [
    "!mkdir mnist-data\n",
    "!curl http://cis.jhu.edu/~sachin/digit/data0 --output mnist-data/data0\n",
    "!curl http://cis.jhu.edu/~sachin/digit/data1 --output mnist-data/data1\n",
    "!curl http://cis.jhu.edu/~sachin/digit/data2 --output mnist-data/data2\n",
    "!curl http://cis.jhu.edu/~sachin/digit/data3 --output mnist-data/data3\n",
    "!curl http://cis.jhu.edu/~sachin/digit/data4 --output mnist-data/data4\n",
    "!curl http://cis.jhu.edu/~sachin/digit/data5 --output mnist-data/data5\n",
    "!curl http://cis.jhu.edu/~sachin/digit/data6 --output mnist-data/data6\n",
    "!curl http://cis.jhu.edu/~sachin/digit/data7 --output mnist-data/data7\n",
    "!curl http://cis.jhu.edu/~sachin/digit/data8 --output mnist-data/data8\n",
    "!curl http://cis.jhu.edu/~sachin/digit/data9 --output mnist-data/data9"
   ]
  },
  {
   "cell_type": "code",
   "execution_count": 1,
   "metadata": {},
   "outputs": [],
   "source": [
    "import sys\n",
    "sys.path.append('../../Hallgerd/')\n",
    "import numpy as np\n",
    "import pylab as plt\n",
    "import hallgerd\n",
    "from hallgerd.core import Sequential\n",
    "from hallgerd.layers import Dense\n",
    "from gunnar.core import Device\n",
    "\n",
    "from sklearn.metrics import classification_report\n",
    "from sklearn.preprocessing import OneHotEncoder"
   ]
  },
  {
   "cell_type": "code",
   "execution_count": 2,
   "metadata": {},
   "outputs": [],
   "source": [
    "d0 = np.fromfile('mnist-data/data0', dtype=np.uint8).reshape((1000, 28, 28))\n",
    "d1 = np.fromfile('mnist-data/data1', dtype=np.uint8).reshape((1000, 28, 28))\n",
    "d2 = np.fromfile('mnist-data/data2', dtype=np.uint8).reshape((1000, 28, 28))\n",
    "d3 = np.fromfile('mnist-data/data3', dtype=np.uint8).reshape((1000, 28, 28))\n",
    "d4 = np.fromfile('mnist-data/data4', dtype=np.uint8).reshape((1000, 28, 28))\n",
    "d5 = np.fromfile('mnist-data/data5', dtype=np.uint8).reshape((1000, 28, 28))\n",
    "d6 = np.fromfile('mnist-data/data6', dtype=np.uint8).reshape((1000, 28, 28))\n",
    "d7 = np.fromfile('mnist-data/data7', dtype=np.uint8).reshape((1000, 28, 28))\n",
    "d8 = np.fromfile('mnist-data/data8', dtype=np.uint8).reshape((1000, 28, 28))\n",
    "d9 = np.fromfile('mnist-data/data9', dtype=np.uint8).reshape((1000, 28, 28))\n",
    "dataX = np.concatenate((d0, d1, d2, d3, d4, d5, d6, d7, d8, d9))\n",
    "dataY = np.concatenate(([0]*1000, [1]*1000, [2]*1000, [3]*1000, [4]*1000, \n",
    "                        [5]*1000, [6]*1000, [7]*1000, [8]*1000, [9]*1000))"
   ]
  },
  {
   "cell_type": "code",
   "execution_count": 3,
   "metadata": {},
   "outputs": [],
   "source": [
    "indices = np.random.permutation(10000)\n",
    "dataX = dataX[indices]\n",
    "dataY = dataY[indices]\n",
    "dataX = dataX.reshape(10000, 784).T.astype(np.float32) / 255\n",
    "dataY = OneHotEncoder(categories='auto', sparse=False).fit_transform(dataY.reshape(-1, 1)).T"
   ]
  },
  {
   "cell_type": "code",
   "execution_count": 4,
   "metadata": {},
   "outputs": [
    {
     "data": {
      "text/plain": [
       "((784, 10000), (10, 10000))"
      ]
     },
     "execution_count": 4,
     "metadata": {},
     "output_type": "execute_result"
    }
   ],
   "source": [
    "dataX.shape, dataY.shape"
   ]
  },
  {
   "cell_type": "code",
   "execution_count": 5,
   "metadata": {},
   "outputs": [],
   "source": [
    "trainX, testX = dataX[:, :6000], dataX[:, 6000:]\n",
    "trainY, testY = dataY[:, :6000], dataY[:, 6000:]"
   ]
  },
  {
   "cell_type": "code",
   "execution_count": 6,
   "metadata": {},
   "outputs": [
    {
     "name": "stdout",
     "output_type": "stream",
     "text": [
      "[0. 0. 0. 0. 0. 0. 1. 0. 0. 0.]\n"
     ]
    },
    {
     "data": {
      "image/png": "[encoded data removed]",
      "text/plain": [
       "<Figure size 72x72 with 1 Axes>"
      ]
     },
     "metadata": {
      "needs_background": "light"
     },
     "output_type": "display_data"
    }
   ],
   "source": [
    "N = 42\n",
    "print(trainY[:,N])\n",
    "plt.figure(figsize=(1, 1)); plt.axis('off')\n",
    "plt.imshow(trainX[:,N].reshape(28, 28))\n",
    "plt.show()"
   ]
  },
  {
   "cell_type": "code",
   "execution_count": 7,
   "metadata": {},
   "outputs": [
    {
     "name": "stdout",
     "output_type": "stream",
     "text": [
      "Found devices:\n",
      "\tGeForce GTX 660\n",
      "\n",
      "Using  GeForce GTX 660\n"
     ]
    }
   ],
   "source": [
    "devices = Device.getDevices()\n",
    "dnames = [d for d in devices]\n",
    "\n",
    "print('Found devices:\\n\\t{}'.format('\\n\\t'.join(dnames)))\n",
    "print('\\nUsing ', dnames[0])\n",
    "gpu = Device([devices[dnames[0]]], DTYPE=np.float32, TS=32, TSK=32, WPTM=4, WPTN=4)"
   ]
  },
  {
   "cell_type": "code",
   "execution_count": 9,
   "metadata": {},
   "outputs": [],
   "source": [
    "model = Sequential(gpu, lr=1e-1, batch_size=1024, epochs=15, loss='cross_entropy', verbose=True)\n",
    "model.add(Dense(784, 512, activation='relu'))\n",
    "model.add(Dense(512, 512, activation='relu'))\n",
    "model.add(Dense(512, 10, activation='softmax'))"
   ]
  },
  {
   "cell_type": "code",
   "execution_count": 10,
   "metadata": {},
   "outputs": [
    {
     "name": "stderr",
     "output_type": "stream",
     "text": [
      "loss = -3371.304522010893: 100%|██████████| 15/15 [00:05<00:00,  2.97it/s] "
     ]
    },
    {
     "name": "stdout",
     "output_type": "stream",
     "text": [
      "CPU times: user 3.7 s, sys: 1.37 s, total: 5.07 s\n",
      "Wall time: 5.06 s\n"
     ]
    },
    {
     "name": "stderr",
     "output_type": "stream",
     "text": [
      "\n"
     ]
    }
   ],
   "source": [
    "%%time\n",
    "model.fit(trainX, trainY)"
   ]
  },
  {
   "cell_type": "code",
   "execution_count": 11,
   "metadata": {},
   "outputs": [
    {
     "data": {
      "image/png": "[encoded data removed]",
      "text/plain": [
       "<Figure size 432x288 with 1 Axes>"
      ]
     },
     "metadata": {
      "needs_background": "light"
     },
     "output_type": "display_data"
    }
   ],
   "source": [
    "plt.plot(model.history['loss'], 'go:')\n",
    "plt.xlabel('epoch'); plt.ylabel('loss')\n",
    "plt.show()"
   ]
  },
  {
   "cell_type": "code",
   "execution_count": 12,
   "metadata": {},
   "outputs": [
    {
     "name": "stdout",
     "output_type": "stream",
     "text": [
      "              precision    recall  f1-score   support\n",
      "\n",
      "           0       0.94      0.87      0.90       402\n",
      "           1       0.90      0.95      0.92       409\n",
      "           2       0.97      0.58      0.73       367\n",
      "           3       0.78      0.75      0.76       385\n",
      "           4       0.63      0.90      0.74       424\n",
      "           5       0.00      0.00      0.00       416\n",
      "           6       0.78      0.91      0.84       406\n",
      "           7       0.56      0.95      0.70       379\n",
      "           8       0.43      0.91      0.58       414\n",
      "           9       0.00      0.00      0.00       398\n",
      "\n",
      "    accuracy                           0.68      4000\n",
      "   macro avg       0.60      0.68      0.62      4000\n",
      "weighted avg       0.59      0.68      0.62      4000\n",
      "\n"
     ]
    },
    {
     "name": "stderr",
     "output_type": "stream",
     "text": [
      "/usr/local/lib/python3.7/dist-packages/sklearn/metrics/classification.py:1437: UndefinedMetricWarning: Precision and F-score are ill-defined and being set to 0.0 in labels with no predicted samples.\n",
      "  'precision', 'predicted', average, warn_for)\n"
     ]
    }
   ],
   "source": [
    "yt = testY.argmax(axis=0)\n",
    "ypp = model.predict(testX)\n",
    "yp = ypp.argmax(axis=0)\n",
    "print(classification_report(yt, yp))"
   ]
  },
  {
   "cell_type": "code",
   "execution_count": null,
   "metadata": {},
   "outputs": [],
   "source": []
  }
 ],
 "metadata": {
  "kernelspec": {
   "display_name": "Python 3",
   "language": "python",
   "name": "python3"
  },
  "language_info": {
   "codemirror_mode": {
    "name": "ipython",
    "version": 3
   },
   "file_extension": ".py",
   "mimetype": "text/x-python",
   "name": "python",
   "nbconvert_exporter": "python",
   "pygments_lexer": "ipython3",
   "version": "3.7.3"
  }
 },
 "nbformat": 4,
 "nbformat_minor": 4
}
