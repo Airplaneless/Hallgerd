{
 "cells": [
  {
   "cell_type": "code",
   "execution_count": null,
   "metadata": {},
   "outputs": [],
   "source": [
    "!mkdir mnist-data\n",
    "!curl http://cis.jhu.edu/~sachin/digit/data0 --output mnist-data/data0\n",
    "!curl http://cis.jhu.edu/~sachin/digit/data1 --output mnist-data/data1\n",
    "!curl http://cis.jhu.edu/~sachin/digit/data2 --output mnist-data/data2\n",
    "!curl http://cis.jhu.edu/~sachin/digit/data3 --output mnist-data/data3\n",
    "!curl http://cis.jhu.edu/~sachin/digit/data4 --output mnist-data/data4\n",
    "!curl http://cis.jhu.edu/~sachin/digit/data5 --output mnist-data/data5\n",
    "!curl http://cis.jhu.edu/~sachin/digit/data6 --output mnist-data/data6\n",
    "!curl http://cis.jhu.edu/~sachin/digit/data7 --output mnist-data/data7\n",
    "!curl http://cis.jhu.edu/~sachin/digit/data8 --output mnist-data/data8\n",
    "!curl http://cis.jhu.edu/~sachin/digit/data9 --output mnist-data/data9"
   ]
  },
  {
   "cell_type": "code",
   "execution_count": 1,
   "metadata": {},
   "outputs": [],
   "source": [
    "import numpy as np\n",
    "import pylab as plt\n",
    "\n",
    "import torch\n",
    "import torch.nn\n",
    "import torch.optim\n",
    "import torch.utils.data\n",
    "import torch.nn.functional as F\n",
    "\n",
    "from tqdm import tqdm\n",
    "from sklearn.metrics import classification_report\n",
    "from sklearn.preprocessing import OneHotEncoder"
   ]
  },
  {
   "cell_type": "code",
   "execution_count": 2,
   "metadata": {},
   "outputs": [],
   "source": [
    "class MNISTdataset(torch.utils.data.Dataset):\n",
    "\n",
    "    def __init__(self):\n",
    "\n",
    "        d0 = np.fromfile('mnist-data/data0', dtype=np.uint8).reshape((1000, 28, 28))\n",
    "        d1 = np.fromfile('mnist-data/data1', dtype=np.uint8).reshape((1000, 28, 28))\n",
    "        d2 = np.fromfile('mnist-data/data2', dtype=np.uint8).reshape((1000, 28, 28))\n",
    "        d3 = np.fromfile('mnist-data/data3', dtype=np.uint8).reshape((1000, 28, 28))\n",
    "        d4 = np.fromfile('mnist-data/data4', dtype=np.uint8).reshape((1000, 28, 28))\n",
    "        d5 = np.fromfile('mnist-data/data5', dtype=np.uint8).reshape((1000, 28, 28))\n",
    "        d6 = np.fromfile('mnist-data/data6', dtype=np.uint8).reshape((1000, 28, 28))\n",
    "        d7 = np.fromfile('mnist-data/data7', dtype=np.uint8).reshape((1000, 28, 28))\n",
    "        d8 = np.fromfile('mnist-data/data8', dtype=np.uint8).reshape((1000, 28, 28))\n",
    "        d9 = np.fromfile('mnist-data/data9', dtype=np.uint8).reshape((1000, 28, 28))\n",
    "        dataX = np.concatenate((d0, d1, d2, d3, d4, d5, d6, d7, d8, d9))\n",
    "        dataY = np.concatenate(([0]*1000, [1]*1000, [2]*1000, [3]*1000, [4]*1000, [5]*1000, [6]*1000, [7]*1000, [8]*1000, [9]*1000))\n",
    "        \n",
    "        indices = np.random.permutation(10000)\n",
    "        dataX = dataX[indices]\n",
    "        dataY = dataY[indices]\n",
    "        self.dataX = dataX.reshape(10000, 784).astype(np.float32) / 255\n",
    "        self.dataY = dataY\n",
    "#         self.dataY = OneHotEncoder(categories='auto', sparse=False).fit_transform(dataY.reshape(-1, 1))\n",
    "\n",
    "    def __len__(self):\n",
    "        return self.dataX.shape[0]\n",
    "\n",
    "    def __getitem__(self, i):\n",
    "        img = torch.Tensor(self.dataX[i])\n",
    "        num = self.dataY[i]\n",
    "        return (img, num)"
   ]
  },
  {
   "cell_type": "code",
   "execution_count": 3,
   "metadata": {},
   "outputs": [],
   "source": [
    "class Net(torch.nn.Module):\n",
    "    \n",
    "    def __init__(self):\n",
    "        super(Net, self).__init__()\n",
    "        self.d1 = torch.nn.Linear(784, 512)\n",
    "        self.d2 = torch.nn.Linear(512, 512)\n",
    "        self.d3 = torch.nn.Linear(512, 10)\n",
    "        \n",
    "    def forward(self, x):\n",
    "        x = F.relu(self.d1(x))\n",
    "        x = F.relu(self.d2(x))\n",
    "        x = F.softmax(self.d3(x))\n",
    "        return x"
   ]
  },
  {
   "cell_type": "code",
   "execution_count": 4,
   "metadata": {},
   "outputs": [],
   "source": [
    "model = Net()\n",
    "\n",
    "dataset = MNISTdataset()\n",
    "traingenerator = torch.utils.data.DataLoader(dataset=dataset, batch_size=1024, shuffle=True)\n",
    "\n",
    "criterion = torch.nn.CrossEntropyLoss()\n",
    "optimizer = torch.optim.SGD(model.parameters(), lr=0.3, momentum=0.0)"
   ]
  },
  {
   "cell_type": "code",
   "execution_count": 5,
   "metadata": {},
   "outputs": [
    {
     "name": "stderr",
     "output_type": "stream",
     "text": [
      "  0%|                                                                                           | 0/20 [00:00<?, ?it/s]c:\\users\\u0001\\appdata\\local\\programs\\python\\python37\\lib\\site-packages\\ipykernel_launcher.py:12: UserWarning: Implicit dimension choice for softmax has been deprecated. Change the call to include dim=X as an argument.\n",
      "  if sys.path[0] == '':\n",
      "  5%|████▏                                                                              | 1/20 [00:01<00:36,  1.92s/it]\n"
     ]
    },
    {
     "ename": "KeyboardInterrupt",
     "evalue": "",
     "output_type": "error",
     "traceback": [
      "\u001b[1;31m---------------------------------------------------------------------------\u001b[0m",
      "\u001b[1;31mKeyboardInterrupt\u001b[0m                         Traceback (most recent call last)",
      "\u001b[1;32m<timed exec>\u001b[0m in \u001b[0;36m<module>\u001b[1;34m\u001b[0m\n",
      "\u001b[1;32mc:\\users\\u0001\\appdata\\local\\programs\\python\\python37\\lib\\site-packages\\torch\\tensor.py\u001b[0m in \u001b[0;36mbackward\u001b[1;34m(self, gradient, retain_graph, create_graph)\u001b[0m\n\u001b[0;32m    116\u001b[0m                 \u001b[0mproducts\u001b[0m\u001b[1;33m.\u001b[0m \u001b[0mDefaults\u001b[0m \u001b[0mto\u001b[0m\u001b[0;31m \u001b[0m\u001b[0;31m`\u001b[0m\u001b[0;31m`\u001b[0m\u001b[1;32mFalse\u001b[0m\u001b[0;31m`\u001b[0m\u001b[0;31m`\u001b[0m\u001b[1;33m.\u001b[0m\u001b[1;33m\u001b[0m\u001b[1;33m\u001b[0m\u001b[0m\n\u001b[0;32m    117\u001b[0m         \"\"\"\n\u001b[1;32m--> 118\u001b[1;33m         \u001b[0mtorch\u001b[0m\u001b[1;33m.\u001b[0m\u001b[0mautograd\u001b[0m\u001b[1;33m.\u001b[0m\u001b[0mbackward\u001b[0m\u001b[1;33m(\u001b[0m\u001b[0mself\u001b[0m\u001b[1;33m,\u001b[0m \u001b[0mgradient\u001b[0m\u001b[1;33m,\u001b[0m \u001b[0mretain_graph\u001b[0m\u001b[1;33m,\u001b[0m \u001b[0mcreate_graph\u001b[0m\u001b[1;33m)\u001b[0m\u001b[1;33m\u001b[0m\u001b[1;33m\u001b[0m\u001b[0m\n\u001b[0m\u001b[0;32m    119\u001b[0m \u001b[1;33m\u001b[0m\u001b[0m\n\u001b[0;32m    120\u001b[0m     \u001b[1;32mdef\u001b[0m \u001b[0mregister_hook\u001b[0m\u001b[1;33m(\u001b[0m\u001b[0mself\u001b[0m\u001b[1;33m,\u001b[0m \u001b[0mhook\u001b[0m\u001b[1;33m)\u001b[0m\u001b[1;33m:\u001b[0m\u001b[1;33m\u001b[0m\u001b[1;33m\u001b[0m\u001b[0m\n",
      "\u001b[1;32mc:\\users\\u0001\\appdata\\local\\programs\\python\\python37\\lib\\site-packages\\torch\\autograd\\__init__.py\u001b[0m in \u001b[0;36mbackward\u001b[1;34m(tensors, grad_tensors, retain_graph, create_graph, grad_variables)\u001b[0m\n\u001b[0;32m     91\u001b[0m     Variable._execution_engine.run_backward(\n\u001b[0;32m     92\u001b[0m         \u001b[0mtensors\u001b[0m\u001b[1;33m,\u001b[0m \u001b[0mgrad_tensors\u001b[0m\u001b[1;33m,\u001b[0m \u001b[0mretain_graph\u001b[0m\u001b[1;33m,\u001b[0m \u001b[0mcreate_graph\u001b[0m\u001b[1;33m,\u001b[0m\u001b[1;33m\u001b[0m\u001b[1;33m\u001b[0m\u001b[0m\n\u001b[1;32m---> 93\u001b[1;33m         allow_unreachable=True)  # allow_unreachable flag\n\u001b[0m\u001b[0;32m     94\u001b[0m \u001b[1;33m\u001b[0m\u001b[0m\n\u001b[0;32m     95\u001b[0m \u001b[1;33m\u001b[0m\u001b[0m\n",
      "\u001b[1;31mKeyboardInterrupt\u001b[0m: "
     ]
    }
   ],
   "source": [
    "%%time\n",
    "losses = np.zeros(20)\n",
    "for i in tqdm(range(20)):\n",
    "    for batch in traingenerator:\n",
    "        # get the inputs; data is a list of [inputs, labels]\n",
    "        inputs, labels = batch\n",
    "        # zero the parameter gradients\n",
    "        optimizer.zero_grad()\n",
    "        # forward + backward + optimize\n",
    "        outputs = model(inputs.float())\n",
    "        loss = criterion(outputs, labels.long())\n",
    "        loss.backward()\n",
    "        optimizer.step()\n",
    "    with torch.no_grad():\n",
    "        for batch in traingenerator:\n",
    "            inputs, labels = batch\n",
    "            outputs = model(inputs.float())\n",
    "            loss = criterion(outputs, labels.long())\n",
    "            losses[i] += loss.item()"
   ]
  },
  {
   "cell_type": "code",
   "execution_count": 7,
   "metadata": {},
   "outputs": [
    {
     "data": {
      "image/png": "[encoded data removed]",
      "text/plain": [
       "<Figure size 432x288 with 1 Axes>"
      ]
     },
     "metadata": {
      "needs_background": "light"
     },
     "output_type": "display_data"
    }
   ],
   "source": [
    "plt.plot(losses, 'go:')\n",
    "plt.xlabel('epoch'); plt.ylabel('loss')\n",
    "plt.show()"
   ]
  },
  {
   "cell_type": "code",
   "execution_count": 8,
   "metadata": {},
   "outputs": [],
   "source": [
    "dataset = MNISTdataset()"
   ]
  },
  {
   "cell_type": "code",
   "execution_count": 9,
   "metadata": {},
   "outputs": [
    {
     "name": "stderr",
     "output_type": "stream",
     "text": [
      "  0%|                                                                                        | 0/10000 [00:00<?, ?it/s]c:\\users\\u0001\\appdata\\local\\programs\\python\\python37\\lib\\site-packages\\ipykernel_launcher.py:12: UserWarning: Implicit dimension choice for softmax has been deprecated. Change the call to include dim=X as an argument.\n",
      "  if sys.path[0] == '':\n",
      "100%|██████████████████████████████████████████████████████████████████████████| 10000/10000 [00:04<00:00, 2137.66it/s]\n",
      "c:\\users\\u0001\\appdata\\local\\programs\\python\\python37\\lib\\site-packages\\sklearn\\metrics\\classification.py:1437: UndefinedMetricWarning: Precision and F-score are ill-defined and being set to 0.0 in labels with no predicted samples.\n",
      "  'precision', 'predicted', average, warn_for)\n"
     ]
    },
    {
     "name": "stdout",
     "output_type": "stream",
     "text": [
      "              precision    recall  f1-score   support\n",
      "\n",
      "           0       0.84      0.97      0.90      1000\n",
      "           1       0.86      0.97      0.91      1000\n",
      "           2       0.84      0.79      0.82      1000\n",
      "           3       0.68      0.84      0.75      1000\n",
      "           4       0.91      0.72      0.81      1000\n",
      "           5       0.00      0.00      0.00      1000\n",
      "           6       0.87      0.94      0.90      1000\n",
      "           7       0.84      0.89      0.86      1000\n",
      "           8       0.63      0.83      0.72      1000\n",
      "           9       0.66      0.86      0.75      1000\n",
      "\n",
      "    accuracy                           0.78     10000\n",
      "   macro avg       0.71      0.78      0.74     10000\n",
      "weighted avg       0.71      0.78      0.74     10000\n",
      "\n"
     ]
    }
   ],
   "source": [
    "yt = dataset.dataY\n",
    "yp = np.zeros(yt.shape[0])\n",
    "for i in tqdm(range(yp.shape[0])):\n",
    "    x = torch.tensor(dataset.dataX[i][np.newaxis, :])\n",
    "    y = model(x)\n",
    "    yp[i] = y.detach().numpy().argmax(axis=1)\n",
    "# yp = ypp.argmax(axis=0)\n",
    "print(classification_report(yt, yp))"
   ]
  },
  {
   "cell_type": "code",
   "execution_count": null,
   "metadata": {},
   "outputs": [],
   "source": []
  }
 ],
 "metadata": {
  "kernelspec": {
   "display_name": "Python 3",
   "language": "python",
   "name": "python3"
  },
  "language_info": {
   "codemirror_mode": {
    "name": "ipython",
    "version": 3
   },
   "file_extension": ".py",
   "mimetype": "text/x-python",
   "name": "python",
   "nbconvert_exporter": "python",
   "pygments_lexer": "ipython3",
   "version": "3.7.4"
  }
 },
 "nbformat": 4,
 "nbformat_minor": 4
}
