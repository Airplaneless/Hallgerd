{
 "cells": [
  {
   "cell_type": "code",
   "execution_count": 1,
   "metadata": {},
   "outputs": [],
   "source": [
    "import torch\n",
    "import numpy as np\n",
    "import pylab as plt"
   ]
  },
  {
   "cell_type": "code",
   "execution_count": 2,
   "metadata": {},
   "outputs": [],
   "source": [
    "conv2d = torch.nn.Conv2d(2, 3, (5,5), padding=2, bias=False)\n",
    "kernel = np.arange(25*6).reshape(3,2,5,5)\n",
    "x = np.arange(625*2).reshape(1,2,25,25)\n",
    "y = np.arange(625*3,0,-1).reshape(1,3,25,25)"
   ]
  },
  {
   "cell_type": "code",
   "execution_count": 3,
   "metadata": {},
   "outputs": [
    {
     "data": {
      "text/plain": [
       "OrderedDict([('weight', tensor([[[[  0.,   1.,   2.,   3.,   4.],\n",
       "                        [  5.,   6.,   7.,   8.,   9.],\n",
       "                        [ 10.,  11.,  12.,  13.,  14.],\n",
       "                        [ 15.,  16.,  17.,  18.,  19.],\n",
       "                        [ 20.,  21.,  22.,  23.,  24.]],\n",
       "              \n",
       "                       [[ 25.,  26.,  27.,  28.,  29.],\n",
       "                        [ 30.,  31.,  32.,  33.,  34.],\n",
       "                        [ 35.,  36.,  37.,  38.,  39.],\n",
       "                        [ 40.,  41.,  42.,  43.,  44.],\n",
       "                        [ 45.,  46.,  47.,  48.,  49.]]],\n",
       "              \n",
       "              \n",
       "                      [[[ 50.,  51.,  52.,  53.,  54.],\n",
       "                        [ 55.,  56.,  57.,  58.,  59.],\n",
       "                        [ 60.,  61.,  62.,  63.,  64.],\n",
       "                        [ 65.,  66.,  67.,  68.,  69.],\n",
       "                        [ 70.,  71.,  72.,  73.,  74.]],\n",
       "              \n",
       "                       [[ 75.,  76.,  77.,  78.,  79.],\n",
       "                        [ 80.,  81.,  82.,  83.,  84.],\n",
       "                        [ 85.,  86.,  87.,  88.,  89.],\n",
       "                        [ 90.,  91.,  92.,  93.,  94.],\n",
       "                        [ 95.,  96.,  97.,  98.,  99.]]],\n",
       "              \n",
       "              \n",
       "                      [[[100., 101., 102., 103., 104.],\n",
       "                        [105., 106., 107., 108., 109.],\n",
       "                        [110., 111., 112., 113., 114.],\n",
       "                        [115., 116., 117., 118., 119.],\n",
       "                        [120., 121., 122., 123., 124.]],\n",
       "              \n",
       "                       [[125., 126., 127., 128., 129.],\n",
       "                        [130., 131., 132., 133., 134.],\n",
       "                        [135., 136., 137., 138., 139.],\n",
       "                        [140., 141., 142., 143., 144.],\n",
       "                        [145., 146., 147., 148., 149.]]]]))])"
      ]
     },
     "execution_count": 3,
     "metadata": {},
     "output_type": "execute_result"
    }
   ],
   "source": [
    "conv2d.load_state_dict({'weight': torch.tensor(kernel).float()})\n",
    "conv2d.state_dict()"
   ]
  },
  {
   "cell_type": "code",
   "execution_count": 4,
   "metadata": {},
   "outputs": [],
   "source": [
    "tx = torch.autograd.Variable(torch.tensor(x).float(), requires_grad=True)\n",
    "ty = torch.autograd.Variable(torch.tensor(y).float(), requires_grad=True)\n",
    "out = conv2d(tx)"
   ]
  },
  {
   "cell_type": "code",
   "execution_count": 5,
   "metadata": {},
   "outputs": [
    {
     "data": {
      "image/png": "[encoded data removed]",
      "text/plain": [
       "<Figure size 432x288 with 6 Axes>"
      ]
     },
     "metadata": {
      "needs_background": "light"
     },
     "output_type": "display_data"
    }
   ],
   "source": [
    "fig, ax = plt.subplots(nrows=3, ncols=2)\n",
    "ax[0,0].imshow(x[0,0])\n",
    "ax[0,0].set_title('input')\n",
    "ax[1,0].imshow(x[0,1])\n",
    "ax[0,1].set_title('out')\n",
    "ax[0,1].imshow(out.detach().numpy()[0,0])\n",
    "ax[1,1].imshow(out.detach().numpy()[0,1])\n",
    "ax[2,1].imshow(out.detach().numpy()[0,2])\n",
    "plt.show()"
   ]
  },
  {
   "cell_type": "code",
   "execution_count": 6,
   "metadata": {},
   "outputs": [],
   "source": [
    "conv2d.zero_grad()\n",
    "out.backward(gradient=ty)"
   ]
  },
  {
   "cell_type": "code",
   "execution_count": 7,
   "metadata": {},
   "outputs": [
    {
     "data": {
      "text/plain": [
       "(1, 2, 25, 25)"
      ]
     },
     "execution_count": 7,
     "metadata": {},
     "output_type": "execute_result"
    }
   ],
   "source": [
    "tx.grad.detach().numpy().shape"
   ]
  },
  {
   "cell_type": "code",
   "execution_count": 8,
   "metadata": {},
   "outputs": [
    {
     "data": {
      "image/png": "[encoded data removed]",
      "text/plain": [
       "<Figure size 432x288 with 9 Axes>"
      ]
     },
     "metadata": {
      "needs_background": "light"
     },
     "output_type": "display_data"
    }
   ],
   "source": [
    "fig, ax = plt.subplots(nrows=3, ncols=3)\n",
    "\n",
    "ax[0,0].set_title('input')\n",
    "ax[0,0].imshow(x[0,0])\n",
    "ax[1,0].imshow(x[0,1])\n",
    "ax[0,1].set_title('out')\n",
    "ax[0,1].imshow(out.detach().numpy()[0,0])\n",
    "ax[1,1].imshow(out.detach().numpy()[0,1])\n",
    "ax[2,1].imshow(out.detach().numpy()[0,2])\n",
    "ax[0,2].set_title('input grad')\n",
    "ax[0,2].imshow(tx.grad.detach().numpy()[0,0])\n",
    "ax[1,2].imshow(tx.grad.detach().numpy()[0,1])\n",
    "\n",
    "plt.show()"
   ]
  },
  {
   "cell_type": "code",
   "execution_count": 9,
   "metadata": {},
   "outputs": [
    {
     "data": {
      "text/plain": [
       "torch.Size([3, 2, 5, 5])"
      ]
     },
     "execution_count": 9,
     "metadata": {},
     "output_type": "execute_result"
    }
   ],
   "source": [
    "conv2d.weight.grad.shape"
   ]
  },
  {
   "cell_type": "code",
   "execution_count": 10,
   "metadata": {},
   "outputs": [
    {
     "data": {
      "image/png": "[encoded data removed]",
      "text/plain": [
       "<Figure size 432x288 with 6 Axes>"
      ]
     },
     "metadata": {
      "needs_background": "light"
     },
     "output_type": "display_data"
    }
   ],
   "source": [
    "fig, ax = plt.subplots(nrows=3, ncols=2)\n",
    "ax[0,0].imshow(conv2d.weight.grad.detach().numpy()[0,0])\n",
    "ax[1,0].imshow(conv2d.weight.grad.detach().numpy()[1,0])\n",
    "ax[2,0].imshow(conv2d.weight.grad.detach().numpy()[2,0])\n",
    "ax[0,1].imshow(conv2d.weight.grad.detach().numpy()[0,1])\n",
    "ax[1,1].imshow(conv2d.weight.grad.detach().numpy()[1,1])\n",
    "ax[2,1].imshow(conv2d.weight.grad.detach().numpy()[2,1])\n",
    "plt.show()"
   ]
  },
  {
   "cell_type": "code",
   "execution_count": 23,
   "metadata": {},
   "outputs": [],
   "source": [
    "ta = torch.autograd.Variable(\n",
    "    torch.tensor(np.arange(0,5)).float(),\n",
    "    requires_grad=True\n",
    ")\n",
    "\n",
    "tb = torch.autograd.Variable(\n",
    "    torch.tensor(np.arange(5,10)).float(),\n",
    "    requires_grad=True\n",
    ")\n",
    "\n",
    "tones = torch.autograd.Variable(\n",
    "    torch.tensor(np.ones(10)).float(),\n",
    "    requires_grad=True\n",
    ")"
   ]
  },
  {
   "cell_type": "code",
   "execution_count": 24,
   "metadata": {},
   "outputs": [],
   "source": [
    "import torch.functional as F"
   ]
  },
  {
   "cell_type": "code",
   "execution_count": 25,
   "metadata": {},
   "outputs": [],
   "source": [
    "tab = torch.cat([ta, tb])"
   ]
  },
  {
   "cell_type": "code",
   "execution_count": 26,
   "metadata": {},
   "outputs": [],
   "source": [
    "tab.backward(gradient=tones)"
   ]
  },
  {
   "cell_type": "code",
   "execution_count": 28,
   "metadata": {},
   "outputs": [
    {
     "data": {
      "text/plain": [
       "tensor([1., 1., 1., 1., 1.])"
      ]
     },
     "execution_count": 28,
     "metadata": {},
     "output_type": "execute_result"
    }
   ],
   "source": [
    "ta.grad"
   ]
  },
  {
   "cell_type": "code",
   "execution_count": 29,
   "metadata": {},
   "outputs": [
    {
     "data": {
      "text/plain": [
       "tensor([1., 1., 1., 1., 1.])"
      ]
     },
     "execution_count": 29,
     "metadata": {},
     "output_type": "execute_result"
    }
   ],
   "source": [
    "tb.grad"
   ]
  },
  {
   "cell_type": "code",
   "execution_count": 31,
   "metadata": {},
   "outputs": [],
   "source": [
    "tab.grad"
   ]
  },
  {
   "cell_type": "code",
   "execution_count": 32,
   "metadata": {},
   "outputs": [
    {
     "data": {
      "text/plain": [
       "tensor([0., 1., 2., 3., 4., 5., 6., 7., 8., 9.], grad_fn=<CatBackward>)"
      ]
     },
     "execution_count": 32,
     "metadata": {},
     "output_type": "execute_result"
    }
   ],
   "source": [
    "tab"
   ]
  },
  {
   "cell_type": "code",
   "execution_count": 33,
   "metadata": {},
   "outputs": [
    {
     "data": {
      "text/plain": [
       "tensor([0., 1., 2., 3., 4.], requires_grad=True)"
      ]
     },
     "execution_count": 33,
     "metadata": {},
     "output_type": "execute_result"
    }
   ],
   "source": [
    "ta"
   ]
  },
  {
   "cell_type": "code",
   "execution_count": 34,
   "metadata": {},
   "outputs": [
    {
     "data": {
      "text/plain": [
       "<CatBackward at 0x7fa87cf2ae80>"
      ]
     },
     "execution_count": 34,
     "metadata": {},
     "output_type": "execute_result"
    }
   ],
   "source": [
    "tab.grad_fn"
   ]
  },
  {
   "cell_type": "code",
   "execution_count": null,
   "metadata": {},
   "outputs": [],
   "source": []
  }
 ],
 "metadata": {
  "kernelspec": {
   "display_name": "Python 3",
   "language": "python",
   "name": "python3"
  },
  "language_info": {
   "codemirror_mode": {
    "name": "ipython",
    "version": 3
   },
   "file_extension": ".py",
   "mimetype": "text/x-python",
   "name": "python",
   "nbconvert_exporter": "python",
   "pygments_lexer": "ipython3",
   "version": "3.7.2"
  }
 },
 "nbformat": 4,
 "nbformat_minor": 4
}
