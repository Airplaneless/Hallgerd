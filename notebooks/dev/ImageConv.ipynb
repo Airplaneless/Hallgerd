{
 "cells": [
  {
   "cell_type": "code",
   "execution_count": 1,
   "metadata": {},
   "outputs": [],
   "source": [
    "import sys\n",
    "sys.path.append('../repos/Hallgerd/')"
   ]
  },
  {
   "cell_type": "code",
   "execution_count": 2,
   "metadata": {},
   "outputs": [
    {
     "name": "stdout",
     "output_type": "stream",
     "text": [
      "Found devices:\n",
      "\tGeForce GTX 660\n",
      "\n",
      "Using  GeForce GTX 660\n"
     ]
    }
   ],
   "source": [
    "import numpy as np\n",
    "\n",
    "import gunnar\n",
    "from gunnar.core import Device\n",
    "\n",
    "devices = Device.getDevices()\n",
    "dnames = [d for d in devices]\n",
    "print('Found devices:\\n\\t{}'.format('\\n\\t'.join(dnames)))\n",
    "print('\\nUsing ', dnames[0])\n",
    "gpu = Device([devices[dnames[0]]], DTYPE=np.float32, TS=32, TSK=32, WPTM=4, WPTN=4, TSM=128, TSN=128)"
   ]
  },
  {
   "cell_type": "code",
   "execution_count": 3,
   "metadata": {},
   "outputs": [],
   "source": [
    "a = np.vstack((np.arange(9), np.arange(9), np.arange(9), np.arange(9))).reshape(18, 2)\n",
    "b = np.ones(72).reshape(72,1)"
   ]
  },
  {
   "cell_type": "code",
   "execution_count": 4,
   "metadata": {},
   "outputs": [
    {
     "data": {
      "text/plain": [
       "array([[[0, 2, 4],\n",
       "        [6, 8, 1],\n",
       "        [3, 5, 7]],\n",
       "\n",
       "       [[0, 2, 4],\n",
       "        [6, 8, 1],\n",
       "        [3, 5, 7]]])"
      ]
     },
     "execution_count": 4,
     "metadata": {},
     "output_type": "execute_result"
    }
   ],
   "source": [
    "a[:,0].reshape(2,3,3)"
   ]
  },
  {
   "cell_type": "code",
   "execution_count": 5,
   "metadata": {},
   "outputs": [
    {
     "data": {
      "text/plain": [
       "array([[[[1., 1., 1.],\n",
       "         [1., 1., 1.],\n",
       "         [1., 1., 1.]],\n",
       "\n",
       "        [[1., 1., 1.],\n",
       "         [1., 1., 1.],\n",
       "         [1., 1., 1.]]],\n",
       "\n",
       "\n",
       "       [[[1., 1., 1.],\n",
       "         [1., 1., 1.],\n",
       "         [1., 1., 1.]],\n",
       "\n",
       "        [[1., 1., 1.],\n",
       "         [1., 1., 1.],\n",
       "         [1., 1., 1.]]],\n",
       "\n",
       "\n",
       "       [[[1., 1., 1.],\n",
       "         [1., 1., 1.],\n",
       "         [1., 1., 1.]],\n",
       "\n",
       "        [[1., 1., 1.],\n",
       "         [1., 1., 1.],\n",
       "         [1., 1., 1.]]],\n",
       "\n",
       "\n",
       "       [[[1., 1., 1.],\n",
       "         [1., 1., 1.],\n",
       "         [1., 1., 1.]],\n",
       "\n",
       "        [[1., 1., 1.],\n",
       "         [1., 1., 1.],\n",
       "         [1., 1., 1.]]]])"
      ]
     },
     "execution_count": 5,
     "metadata": {},
     "output_type": "execute_result"
    }
   ],
   "source": [
    "b[:,0].reshape(4,2,3,3)"
   ]
  },
  {
   "cell_type": "code",
   "execution_count": 6,
   "metadata": {},
   "outputs": [],
   "source": [
    "ga = gpu.image(a, (3,3), (2,))\n",
    "gb = gpu.image(b, (3,3), (4,2))"
   ]
  },
  {
   "cell_type": "code",
   "execution_count": 7,
   "metadata": {},
   "outputs": [],
   "source": [
    "gc = ga.conv2d(gb, padding=1)"
   ]
  },
  {
   "cell_type": "code",
   "execution_count": 8,
   "metadata": {},
   "outputs": [
    {
     "data": {
      "text/plain": [
       "(4,)"
      ]
     },
     "execution_count": 8,
     "metadata": {},
     "output_type": "execute_result"
    }
   ],
   "source": [
    "gc.channels"
   ]
  },
  {
   "cell_type": "code",
   "execution_count": 9,
   "metadata": {},
   "outputs": [
    {
     "data": {
      "text/plain": [
       "array([[[72., 72., 72.],\n",
       "        [72., 72., 72.],\n",
       "        [72., 72., 72.]],\n",
       "\n",
       "       [[72., 72., 72.],\n",
       "        [72., 72., 72.],\n",
       "        [72., 72., 72.]],\n",
       "\n",
       "       [[72., 72., 72.],\n",
       "        [72., 72., 72.],\n",
       "        [72., 72., 72.]],\n",
       "\n",
       "       [[72., 72., 72.],\n",
       "        [72., 72., 72.],\n",
       "        [72., 72., 72.]]], dtype=float32)"
      ]
     },
     "execution_count": 9,
     "metadata": {},
     "output_type": "execute_result"
    }
   ],
   "source": [
    "c = gc.to_cpu()\n",
    "c[:,0].reshape(4,3,3)"
   ]
  },
  {
   "cell_type": "code",
   "execution_count": 10,
   "metadata": {},
   "outputs": [
    {
     "data": {
      "text/plain": [
       "(72, 1)"
      ]
     },
     "execution_count": 10,
     "metadata": {},
     "output_type": "execute_result"
    }
   ],
   "source": [
    "dwc = gc.fconv2d(ga, padding=0)\n",
    "dwc = dwc.crop(((1,4), (1,4)))\n",
    "dwc.shape"
   ]
  },
  {
   "cell_type": "code",
   "execution_count": 11,
   "metadata": {},
   "outputs": [
    {
     "name": "stdout",
     "output_type": "stream",
     "text": [
      "[[[[ 972. 1404.  900.]\n",
      "   [1620. 2592. 1836.]\n",
      "   [1404. 2052. 1332.]]\n",
      "\n",
      "  [[ 972. 1404.  900.]\n",
      "   [1620. 2592. 1836.]\n",
      "   [1404. 2052. 1332.]]]\n",
      "\n",
      "\n",
      " [[[ 972. 1404.  900.]\n",
      "   [1620. 2592. 1836.]\n",
      "   [1404. 2052. 1332.]]\n",
      "\n",
      "  [[ 972. 1404.  900.]\n",
      "   [1620. 2592. 1836.]\n",
      "   [1404. 2052. 1332.]]]\n",
      "\n",
      "\n",
      " [[[ 972. 1404.  900.]\n",
      "   [1620. 2592. 1836.]\n",
      "   [1404. 2052. 1332.]]\n",
      "\n",
      "  [[ 972. 1404.  900.]\n",
      "   [1620. 2592. 1836.]\n",
      "   [1404. 2052. 1332.]]]\n",
      "\n",
      "\n",
      " [[[ 972. 1404.  900.]\n",
      "   [1620. 2592. 1836.]\n",
      "   [1404. 2052. 1332.]]\n",
      "\n",
      "  [[ 972. 1404.  900.]\n",
      "   [1620. 2592. 1836.]\n",
      "   [1404. 2052. 1332.]]]]\n"
     ]
    }
   ],
   "source": [
    "print(dwc.to_cpu()[:,0].reshape(4,2,3,3))"
   ]
  },
  {
   "cell_type": "code",
   "execution_count": null,
   "metadata": {},
   "outputs": [],
   "source": []
  }
 ],
 "metadata": {
  "kernelspec": {
   "display_name": "Python 3",
   "language": "python",
   "name": "python3"
  },
  "language_info": {
   "codemirror_mode": {
    "name": "ipython",
    "version": 3
   },
   "file_extension": ".py",
   "mimetype": "text/x-python",
   "name": "python",
   "nbconvert_exporter": "python",
   "pygments_lexer": "ipython3",
   "version": "3.7.4"
  }
 },
 "nbformat": 4,
 "nbformat_minor": 4
}
