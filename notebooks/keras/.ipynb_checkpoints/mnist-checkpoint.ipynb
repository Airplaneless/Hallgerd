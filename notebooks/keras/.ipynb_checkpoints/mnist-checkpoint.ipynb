{
 "cells": [
  {
   "cell_type": "code",
   "execution_count": 1,
   "metadata": {},
   "outputs": [
    {
     "name": "stderr",
     "output_type": "stream",
     "text": [
      "Using TensorFlow backend.\n"
     ]
    }
   ],
   "source": [
    "import numpy as np\n",
    "import matplotlib\n",
    "import pylab as plt\n",
    "\n",
    "import keras\n",
    "from keras.datasets import mnist\n",
    "from keras.models import Sequential\n",
    "from keras.layers import Dense"
   ]
  },
  {
   "cell_type": "code",
   "execution_count": 2,
   "metadata": {},
   "outputs": [],
   "source": [
    "(x_train, y_train), (x_test, y_test) = mnist.load_data()\n",
    "x_train = x_train.reshape(60000, 784)\n",
    "x_test = x_test.reshape(10000, 784)\n",
    "x_train = x_train.astype('float64')\n",
    "x_test = x_test.astype('float64')\n",
    "x_train /= 255\n",
    "x_test /= 255\n",
    "\n",
    "y_train = keras.utils.to_categorical(y_train, 10)\n",
    "y_test = keras.utils.to_categorical(y_test, 10)\n",
    "# x_test = x_test.T\n",
    "# x_train = x_train.T\n",
    "# y_train = y_train.T\n",
    "# y_test = y_test.T"
   ]
  },
  {
   "cell_type": "code",
   "execution_count": 3,
   "metadata": {},
   "outputs": [
    {
     "data": {
      "text/plain": [
       "((60000, 784), (60000, 10))"
      ]
     },
     "execution_count": 3,
     "metadata": {},
     "output_type": "execute_result"
    }
   ],
   "source": [
    "x_train.shape, y_train.shape"
   ]
  },
  {
   "cell_type": "code",
   "execution_count": 4,
   "metadata": {},
   "outputs": [
    {
     "name": "stdout",
     "output_type": "stream",
     "text": [
      "9\n"
     ]
    },
    {
     "data": {
      "image/png": "[encoded data removed]",
      "text/plain": [
       "<matplotlib.figure.Figure at 0x7fe3eda6d4e0>"
      ]
     },
     "metadata": {
      "needs_background": "light"
     },
     "output_type": "display_data"
    }
   ],
   "source": [
    "print(y_test[9].argmax(axis=0))\n",
    "plt.figure(figsize=(1,1))\n",
    "plt.imshow(x_test[9].reshape((28,28)))\n",
    "plt.show()"
   ]
  },
  {
   "cell_type": "code",
   "execution_count": 5,
   "metadata": {},
   "outputs": [
    {
     "name": "stderr",
     "output_type": "stream",
     "text": [
      "WARNING: Logging before flag parsing goes to stderr.\n",
      "W0729 21:42:00.864634 140618407028544 deprecation_wrapper.py:119] From /usr/local/lib/python3.6/dist-packages/keras/backend/tensorflow_backend.py:58: The name tf.get_default_graph is deprecated. Please use tf.compat.v1.get_default_graph instead.\n",
      "\n",
      "W0729 21:42:00.866720 140618407028544 deprecation_wrapper.py:119] From /usr/local/lib/python3.6/dist-packages/keras/backend/tensorflow_backend.py:442: The name tf.placeholder is deprecated. Please use tf.compat.v1.placeholder instead.\n",
      "\n",
      "W0729 21:42:00.868843 140618407028544 deprecation_wrapper.py:119] From /usr/local/lib/python3.6/dist-packages/keras/backend/tensorflow_backend.py:3543: The name tf.random_uniform is deprecated. Please use tf.random.uniform instead.\n",
      "\n",
      "W0729 21:42:01.011144 140618407028544 deprecation_wrapper.py:119] From /usr/local/lib/python3.6/dist-packages/keras/optimizers.py:711: The name tf.train.Optimizer is deprecated. Please use tf.compat.v1.train.Optimizer instead.\n",
      "\n"
     ]
    },
    {
     "name": "stdout",
     "output_type": "stream",
     "text": [
      "_________________________________________________________________\n",
      "Layer (type)                 Output Shape              Param #   \n",
      "=================================================================\n",
      "dense_1 (Dense)              (None, 512)               401920    \n",
      "_________________________________________________________________\n",
      "dense_2 (Dense)              (None, 512)               262656    \n",
      "_________________________________________________________________\n",
      "dense_3 (Dense)              (None, 10)                5130      \n",
      "=================================================================\n",
      "Total params: 669,706\n",
      "Trainable params: 669,706\n",
      "Non-trainable params: 0\n",
      "_________________________________________________________________\n"
     ]
    }
   ],
   "source": [
    "model = Sequential()\n",
    "model.add(Dense(512, activation='relu', input_shape=(784,)))\n",
    "model.add(Dense(512, activation='relu'))\n",
    "model.add(Dense(10, activation='softmax'))\n",
    "\n",
    "model.compile(loss='categorical_crossentropy',\n",
    "              optimizer=keras.optimizers.SGD(lr=1e-2),\n",
    "              metrics=['accuracy'])\n",
    "model.summary()"
   ]
  },
  {
   "cell_type": "code",
   "execution_count": 6,
   "metadata": {},
   "outputs": [
    {
     "data": {
      "text/plain": [
       "(3000, 784)"
      ]
     },
     "execution_count": 6,
     "metadata": {},
     "output_type": "execute_result"
    }
   ],
   "source": [
    "x_train[:3000].shape"
   ]
  },
  {
   "cell_type": "code",
   "execution_count": 7,
   "metadata": {},
   "outputs": [
    {
     "name": "stderr",
     "output_type": "stream",
     "text": [
      "W0729 21:42:08.707083 140618407028544 deprecation_wrapper.py:119] From /usr/local/lib/python3.6/dist-packages/keras/backend/tensorflow_backend.py:899: The name tf.assign_add is deprecated. Please use tf.compat.v1.assign_add instead.\n",
      "\n",
      "W0729 21:42:08.710496 140618407028544 deprecation.py:506] From /usr/local/lib/python3.6/dist-packages/keras/backend/tensorflow_backend.py:625: calling Constant.__init__ (from tensorflow.python.ops.init_ops) with dtype is deprecated and will be removed in a future version.\n",
      "Instructions for updating:\n",
      "Call initializer instance with the dtype argument instead of passing it to the constructor\n",
      "W0729 21:42:08.741173 140618407028544 deprecation_wrapper.py:119] From /usr/local/lib/python3.6/dist-packages/keras/backend/tensorflow_backend.py:886: The name tf.assign is deprecated. Please use tf.compat.v1.assign instead.\n",
      "\n"
     ]
    },
    {
     "name": "stdout",
     "output_type": "stream",
     "text": [
      "Epoch 1/20\n",
      "3000/3000 [==============================] - 0s - loss: 0.0909 - acc: 0.0580     \n",
      "Epoch 2/20\n",
      "3000/3000 [==============================] - 0s - loss: 0.0908 - acc: 0.0623     \n",
      "Epoch 3/20\n",
      "3000/3000 [==============================] - 0s - loss: 0.0907 - acc: 0.0627     \n",
      "Epoch 4/20\n",
      "3000/3000 [==============================] - 0s - loss: 0.0907 - acc: 0.0650     \n",
      "Epoch 5/20\n",
      "3000/3000 [==============================] - 0s - loss: 0.0906 - acc: 0.0693     \n",
      "Epoch 6/20\n",
      "3000/3000 [==============================] - 0s - loss: 0.0905 - acc: 0.0733     \n",
      "Epoch 7/20\n",
      "3000/3000 [==============================] - 0s - loss: 0.0904 - acc: 0.0780     \n",
      "Epoch 8/20\n",
      "3000/3000 [==============================] - 0s - loss: 0.0903 - acc: 0.0820     \n",
      "Epoch 9/20\n",
      "3000/3000 [==============================] - 0s - loss: 0.0903 - acc: 0.0880     \n",
      "Epoch 10/20\n",
      "3000/3000 [==============================] - 0s - loss: 0.0902 - acc: 0.0920     \n",
      "Epoch 11/20\n",
      "3000/3000 [==============================] - 0s - loss: 0.0901 - acc: 0.0960     \n",
      "Epoch 12/20\n",
      "3000/3000 [==============================] - 0s - loss: 0.0900 - acc: 0.1020     \n",
      "Epoch 13/20\n",
      "3000/3000 [==============================] - 0s - loss: 0.0899 - acc: 0.1107     \n",
      "Epoch 14/20\n",
      "3000/3000 [==============================] - 0s - loss: 0.0899 - acc: 0.1160     \n",
      "Epoch 15/20\n",
      "3000/3000 [==============================] - 0s - loss: 0.0898 - acc: 0.1233     \n",
      "Epoch 16/20\n",
      "3000/3000 [==============================] - 0s - loss: 0.0897 - acc: 0.1267     \n",
      "Epoch 17/20\n",
      "3000/3000 [==============================] - 0s - loss: 0.0896 - acc: 0.1327     \n",
      "Epoch 18/20\n",
      "3000/3000 [==============================] - 0s - loss: 0.0896 - acc: 0.1410     \n",
      "Epoch 19/20\n",
      "3000/3000 [==============================] - 0s - loss: 0.0895 - acc: 0.1483     \n",
      "Epoch 20/20\n",
      "3000/3000 [==============================] - 0s - loss: 0.0894 - acc: 0.1587     \n"
     ]
    }
   ],
   "source": [
    "history = model.fit(x_train[:3000], y_train[:3000], batch_size=128, epochs=20, verbose=1)"
   ]
  },
  {
   "cell_type": "code",
   "execution_count": 8,
   "metadata": {},
   "outputs": [
    {
     "data": {
      "image/png": "[encoded data removed]",
      "text/plain": [
       "<matplotlib.figure.Figure at 0x7fe3eda6d390>"
      ]
     },
     "metadata": {
      "needs_background": "light"
     },
     "output_type": "display_data"
    }
   ],
   "source": [
    "plt.plot(history.history['loss'], 'gx-')\n",
    "plt.show()"
   ]
  },
  {
   "cell_type": "code",
   "execution_count": 9,
   "metadata": {},
   "outputs": [
    {
     "name": "stdout",
     "output_type": "stream",
     "text": [
      "true:  5\n",
      "pred:  [0]\n"
     ]
    },
    {
     "data": {
      "image/png": "[encoded data removed]",
      "text/plain": [
       "<matplotlib.figure.Figure at 0x7fe3c878f470>"
      ]
     },
     "metadata": {
      "needs_background": "light"
     },
     "output_type": "display_data"
    }
   ],
   "source": [
    "I = 132\n",
    "\n",
    "print('true: ', y_test[I].argmax(axis=0))\n",
    "print('pred: ', model.predict(x_test[I:I+1]).argmax(axis=1))\n",
    "plt.figure(figsize=(1,1))\n",
    "plt.imshow(x_test[I].reshape((28,28)))\n",
    "plt.show()"
   ]
  },
  {
   "cell_type": "code",
   "execution_count": 10,
   "metadata": {},
   "outputs": [
    {
     "name": "stdout",
     "output_type": "stream",
     "text": [
      "             precision    recall  f1-score   support\n",
      "\n",
      "          0       0.13      0.48      0.20       980\n",
      "          1       0.30      0.44      0.36      1135\n",
      "          2       0.21      0.24      0.22      1032\n",
      "          3       0.32      0.06      0.11      1010\n",
      "          4       0.10      0.19      0.13       982\n",
      "          5       0.12      0.01      0.02       892\n",
      "          6       0.00      0.00      0.00       958\n",
      "          7       0.15      0.06      0.09      1028\n",
      "          8       0.21      0.04      0.07       974\n",
      "          9       0.07      0.05      0.06      1009\n",
      "\n",
      "avg / total       0.16      0.16      0.13     10000\n",
      "\n"
     ]
    }
   ],
   "source": [
    "from sklearn.metrics import classification_report\n",
    "yt = y_test.argmax(axis=1)\n",
    "ypp = model.predict(x_test)\n",
    "yp = ypp.argmax(axis=1)\n",
    "print(classification_report(yt, yp))"
   ]
  },
  {
   "cell_type": "code",
   "execution_count": null,
   "metadata": {},
   "outputs": [],
   "source": []
  }
 ],
 "metadata": {
  "kernelspec": {
   "display_name": "Python 3",
   "language": "python",
   "name": "python3"
  },
  "language_info": {
   "codemirror_mode": {
    "name": "ipython",
    "version": 3
   },
   "file_extension": ".py",
   "mimetype": "text/x-python",
   "name": "python",
   "nbconvert_exporter": "python",
   "pygments_lexer": "ipython3",
   "version": "3.6.8"
  }
 },
 "nbformat": 4,
 "nbformat_minor": 2
}
