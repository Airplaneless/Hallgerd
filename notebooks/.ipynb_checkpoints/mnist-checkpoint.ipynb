{
 "cells": [
  {
   "cell_type": "code",
   "execution_count": 1,
   "metadata": {},
   "outputs": [
    {
     "name": "stderr",
     "output_type": "stream",
     "text": [
      "Using TensorFlow backend.\n"
     ]
    }
   ],
   "source": [
    "import sys\n",
    "sys.path.append('../')\n",
    "import numpy as np\n",
    "import matplotlib\n",
    "import pylab as plt\n",
    "\n",
    "import hallgerd\n",
    "from hallgerd.core import Sequential, cross_entropy_delta\n",
    "from hallgerd.layers import Dense\n",
    "import keras\n",
    "from keras.datasets import mnist"
   ]
  },
  {
   "cell_type": "code",
   "execution_count": 2,
   "metadata": {},
   "outputs": [],
   "source": [
    "(x_train, y_train), (x_test, y_test) = mnist.load_data()\n",
    "x_train = x_train.reshape(60000, 784)\n",
    "x_test = x_test.reshape(10000, 784)\n",
    "x_train = x_train.astype('float64')\n",
    "x_test = x_test.astype('float64')\n",
    "x_train /= 255\n",
    "x_test /= 255\n",
    "\n",
    "x_test = x_test.T\n",
    "x_train = x_train.T\n",
    "y_train = keras.utils.to_categorical(y_train, 10)\n",
    "y_test = keras.utils.to_categorical(y_test, 10)\n",
    "y_train = y_train.T\n",
    "y_test = y_test.T"
   ]
  },
  {
   "cell_type": "code",
   "execution_count": 3,
   "metadata": {},
   "outputs": [
    {
     "data": {
      "text/plain": [
       "((784, 60000), (10, 60000))"
      ]
     },
     "execution_count": 3,
     "metadata": {},
     "output_type": "execute_result"
    }
   ],
   "source": [
    "x_train.shape, y_train.shape"
   ]
  },
  {
   "cell_type": "code",
   "execution_count": 4,
   "metadata": {},
   "outputs": [
    {
     "name": "stdout",
     "output_type": "stream",
     "text": [
      "9\n"
     ]
    },
    {
     "data": {
      "image/png": "[encoded data removed]",
      "text/plain": [
       "<matplotlib.figure.Figure at 0x7fab74d8fda0>"
      ]
     },
     "metadata": {
      "needs_background": "light"
     },
     "output_type": "display_data"
    }
   ],
   "source": [
    "print(y_test[:,9].argmax(axis=0))\n",
    "plt.figure(figsize=(1,1))\n",
    "plt.imshow(x_test[:,9].reshape((28,28)))\n",
    "plt.show()"
   ]
  },
  {
   "cell_type": "code",
   "execution_count": 5,
   "metadata": {},
   "outputs": [
    {
     "data": {
      "text/plain": [
       "(784, 3000)"
      ]
     },
     "execution_count": 5,
     "metadata": {},
     "output_type": "execute_result"
    }
   ],
   "source": [
    "x_train[:,:3000].shape"
   ]
  },
  {
   "cell_type": "code",
   "execution_count": 6,
   "metadata": {},
   "outputs": [
    {
     "name": "stderr",
     "output_type": "stream",
     "text": [
      "100%|██████████| 20/20 [02:04<00:00,  6.24s/it]\n"
     ]
    }
   ],
   "source": [
    "model = Sequential(lr=1e-3, batch_size=128, epochs=20, loss='cross_entropy')\n",
    "model.add(Dense(784, 512, activation='relu'))\n",
    "model.add(Dense(512, 512, activation='relu'))\n",
    "model.add(Dense(512, 10, activation='softmax'))\n",
    "model.fit(x_train[:,:3000], y_train[:,:3000])"
   ]
  },
  {
   "cell_type": "code",
   "execution_count": 7,
   "metadata": {
    "scrolled": true
   },
   "outputs": [
    {
     "data": {
      "image/png": "[encoded data removed]",
      "text/plain": [
       "<matplotlib.figure.Figure at 0x7fab72d46080>"
      ]
     },
     "metadata": {
      "needs_background": "light"
     },
     "output_type": "display_data"
    }
   ],
   "source": [
    "plt.plot(model.history['loss'], 'gx-')\n",
    "plt.show()"
   ]
  },
  {
   "cell_type": "code",
   "execution_count": 8,
   "metadata": {},
   "outputs": [
    {
     "name": "stdout",
     "output_type": "stream",
     "text": [
      "true:  5\n",
      "pred:  [5]\n"
     ]
    },
    {
     "data": {
      "image/png": "[encoded data removed]",
      "text/plain": [
       "<matplotlib.figure.Figure at 0x7fab74d8f1d0>"
      ]
     },
     "metadata": {
      "needs_background": "light"
     },
     "output_type": "display_data"
    }
   ],
   "source": [
    "I = 23\n",
    "\n",
    "print('true: ', y_test[:,I].argmax(axis=0))\n",
    "print('pred: ', model(x_test[:,I:I+1]).argmax(axis=0))\n",
    "plt.figure(figsize=(1,1))\n",
    "plt.imshow(x_test[:,I].reshape((28,28)))\n",
    "plt.show()"
   ]
  },
  {
   "cell_type": "code",
   "execution_count": 9,
   "metadata": {},
   "outputs": [
    {
     "name": "stdout",
     "output_type": "stream",
     "text": [
      "             precision    recall  f1-score   support\n",
      "\n",
      "          0       0.95      0.92      0.94       980\n",
      "          1       0.92      0.99      0.95      1135\n",
      "          2       0.82      0.91      0.86      1032\n",
      "          3       0.89      0.81      0.85      1010\n",
      "          4       0.87      0.91      0.89       982\n",
      "          5       0.57      0.93      0.70       892\n",
      "          6       0.91      0.88      0.89       958\n",
      "          7       0.94      0.84      0.88      1028\n",
      "          8       0.96      0.38      0.55       974\n",
      "          9       0.83      0.85      0.84      1009\n",
      "\n",
      "avg / total       0.87      0.84      0.84     10000\n",
      "\n"
     ]
    }
   ],
   "source": [
    "from sklearn.metrics import classification_report\n",
    "yt = y_test.argmax(axis=0)\n",
    "ypp = model(x_test)\n",
    "yp = ypp.argmax(axis=0)\n",
    "print(classification_report(yt, yp))"
   ]
  },
  {
   "cell_type": "code",
   "execution_count": 10,
   "metadata": {},
   "outputs": [
    {
     "data": {
      "text/plain": [
       "((10, 10000), (10, 10000))"
      ]
     },
     "execution_count": 10,
     "metadata": {},
     "output_type": "execute_result"
    }
   ],
   "source": [
    "y_test.shape, ypp.shape"
   ]
  },
  {
   "cell_type": "code",
   "execution_count": 11,
   "metadata": {},
   "outputs": [
    {
     "data": {
      "text/plain": [
       "array([9.02889295e-05, 1.06533678e-05, 2.49765643e-04, 2.67560270e-03,\n",
       "       4.12741020e-05, 1.13474913e-04, 4.45799876e-06, 9.94824748e-01,\n",
       "       9.74094631e-06, 1.97999306e-03])"
      ]
     },
     "execution_count": 11,
     "metadata": {},
     "output_type": "execute_result"
    }
   ],
   "source": [
    "ypp[:,0]"
   ]
  },
  {
   "cell_type": "code",
   "execution_count": null,
   "metadata": {},
   "outputs": [],
   "source": []
  }
 ],
 "metadata": {
  "kernelspec": {
   "display_name": "Python 3",
   "language": "python",
   "name": "python3"
  },
  "language_info": {
   "codemirror_mode": {
    "name": "ipython",
    "version": 3
   },
   "file_extension": ".py",
   "mimetype": "text/x-python",
   "name": "python",
   "nbconvert_exporter": "python",
   "pygments_lexer": "ipython3",
   "version": "3.6.8"
  }
 },
 "nbformat": 4,
 "nbformat_minor": 2
}
